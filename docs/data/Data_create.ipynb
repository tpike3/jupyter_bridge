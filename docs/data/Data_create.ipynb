{
 "cells": [
  {
   "cell_type": "code",
   "execution_count": 1,
   "id": "61856ded-bb66-4d70-a0b2-5c6e3294ac72",
   "metadata": {
    "has_explanation": false
   },
   "outputs": [],
   "source": [
    "import numpy as np\n",
    "import pandas as pd\n",
    "import os\n",
    "import random\n",
    "import json\n",
    "from functools import reduce\n",
    "import glob"
   ]
  },
  {
   "cell_type": "code",
   "execution_count": 2,
   "id": "fb32e976-7976-4824-8d44-611fa4d69238",
   "metadata": {
    "has_explanation": false
   },
   "outputs": [],
   "source": [
    "with open('drop_downs.json', 'r') as json_file:\n",
    "   grade_create = json.load(json_file)"
   ]
  },
  {
   "cell_type": "code",
   "execution_count": 3,
   "id": "b4e90d54-51c8-41bf-b67d-9c8f71081c34",
   "metadata": {
    "has_explanation": false
   },
   "outputs": [],
   "source": [
    "student_ids = np.linspace(7234, 7657, 423, dtype=int)"
   ]
  },
  {
   "cell_type": "code",
   "execution_count": 5,
   "id": "7210419c-1bca-48b0-8a9f-8b156f0a138b",
   "metadata": {
    "has_explanation": false
   },
   "outputs": [],
   "source": [
    "def calculate_final_grades(dataframes):\n",
    "    # Step 1: Drop the 'Feedback' column if it exists in any DataFrame\n",
    "    clean_dataframes = [df.drop(columns=['Feedback'], errors='ignore') for df in dataframes]\n",
    "\n",
    "    clean_dataframes = [df.reset_index(drop=True) for df in clean_dataframes]\n",
    "    \n",
    "    # Step 2: Rename 'Grades' column in each DataFrame to avoid conflicts during merge\n",
    "    for i, df in enumerate(clean_dataframes):\n",
    "        df.rename(columns={'Grades': f'Assignment_{i + 1}'}, inplace=True)\n",
    "    \n",
    "    # Step 2: Merge all DataFrames on the 'Student ID' column\n",
    "    merged_df = reduce(lambda left, right: pd.merge(left, right, on='Student ID', how='outer'), clean_dataframes)\n",
    "    \n",
    "    # Step 3: Calculate final grade by averaging all grade columns\n",
    "    # The columns except 'Student ID' are the assignment grades\n",
    "    grade_columns = merged_df.columns.drop('Student ID')\n",
    "    merged_df['Final Grade'] = merged_df[grade_columns].mean(axis=1)\n",
    "    \n",
    "    # Step 4: Return the DataFrame with Student ID and Final Grade\n",
    "    final_grades_df = merged_df[['Student ID', 'Final Grade']]\n",
    "    return final_grades_df\n",
    "\n",
    "def generate_section_csv(class_ids):\n",
    "    # Step 3: Shift mean for grades between 85 and 95 for this section\n",
    "    mean_grade = random.uniform(85, 95)\n",
    "    std_dev = 20  # Standard deviation for grade distribution\n",
    "\n",
    "    # Generate grades using a Gaussian distribution\n",
    "    grades = np.clip(np.random.normal(mean_grade, std_dev, len(class_ids)), 0, 100)\n",
    "    grades = np.round(grades, 2)  # Rounds grades to 2 decimal points\n",
    "    \n",
    "    # Step 4: Create feedback for each student\n",
    "    feedback = [\"Link to Assignment with Professor Feedback\"] * len(class_ids)\n",
    "\n",
    "    # Step 5: Create a DataFrame to hold the data\n",
    "    data = {\n",
    "        \"Student ID\": class_ids,\n",
    "        \"Grades\": grades,\n",
    "        \"Feedback\": feedback\n",
    "    }\n",
    "    df = pd.DataFrame(data)\n",
    "    \n",
    "    return df\n",
    "\n",
    "for program,courses in grade_create.items(): \n",
    "    os.mkdir(f\"course_grades/{program}\")\n",
    "    #print(program)\n",
    "    for course, sections in courses.items():\n",
    "        os.mkdir(f\"course_grades/{program}/{course}\")\n",
    "        # Randomly select between 6 and 20 students for this section\n",
    "        for section, assignments in sections[\"Sections\"].items(): \n",
    "            os.mkdir(f\"course_grades/{program}/{course}/{section}\")\n",
    "            selected_student_ids = np.random.choice(student_ids, random.randint(6, 20), replace=False)\n",
    "            section_grades = []\n",
    "            for assignment in assignments: \n",
    "                df = generate_section_csv(selected_student_ids)\n",
    "                df.to_csv(f\"course_grades/{program}/{course}/{section}/{assignment}.csv\")\n",
    "                section_grades.append(df)\n",
    "            # create final grade\n",
    "            if len(section_grades) == 1 or len(section_grades)==0: \n",
    "                pass\n",
    "            else: \n",
    "                df = calculate_final_grades(section_grades)\n",
    "                df.to_csv(f\"course_grades/{program}/{course}/{section}/final_grade.csv\")\n",
    "            \n",
    "            \n",
    "            \n",
    "        "
   ]
  },
  {
   "cell_type": "code",
   "execution_count": 6,
   "id": "2d231824-e7ae-429f-a9a2-a28f4619f46c",
   "metadata": {
    "has_explanation": false
   },
   "outputs": [],
   "source": [
    "def score_to_grade(score):\n",
    "    if score >= 93:\n",
    "        return 'A'\n",
    "    elif score >= 90:\n",
    "        return 'A-'\n",
    "    elif score >= 83:\n",
    "        return 'B'\n",
    "    elif score >= 80:\n",
    "        return 'B-'\n",
    "    elif score >= 78:\n",
    "        return 'C+'\n",
    "    elif score >= 70:\n",
    "        return 'C'\n",
    "    else:\n",
    "        return 'F'\n"
   ]
  },
  {
   "cell_type": "code",
   "execution_count": 7,
   "id": "1453d060-f4c9-4dbd-b849-d6b6b3a3aa6e",
   "metadata": {
    "has_explanation": false
   },
   "outputs": [
    {
     "name": "stdout",
     "output_type": "stream",
     "text": [
      "course_grades\\BSI\\BCR411\\All\n",
      "course_grades\\MCR\\MCR702\\All\n",
      "course_grades\\MSSI\\CAC611\\All\n",
      "course_grades\\MSSI\\hececk\\All\n",
      "course_grades\\MSSI\\INT606\\All\n",
      "course_grades\\MSSI\\RSI451\\All\n",
      "course_grades\\MSSI\\RSI613\\All\n",
      "course_grades\\MSSI\\RSI656\\All\n",
      "course_grades\\MSTI\\MST653\\All\n",
      "course_grades\\MSTI\\MST657\\All\n",
      "course_grades\\MSTI\\MST658\\All\n",
      "course_grades\\MSTI\\MST659\\All\n",
      "course_grades\\MSTI\\MST690\\All\n",
      "course_grades\\MSTI\\MST698\\All\n"
     ]
    }
   ],
   "source": [
    "programs = glob.glob(f\"course_grades/*\")\n",
    "\n",
    "overall = {}\n",
    "for program in programs:\n",
    "    courses = glob.glob(f\"{program}/*\")\n",
    "    for course in courses: \n",
    "        sections = glob.glob(f\"{course}/*\")\n",
    "        for section in sections:\n",
    "            grades = {}\n",
    "            if \"All\" in section: \n",
    "                try: \n",
    "                    all_section = pd.read_csv(f\"{section}/final_grade.csv\")\n",
    "                    grade_list = all_section['Final Grade'].apply(score_to_grade)\n",
    "                    for g in grade_list: \n",
    "                        if g not in grades.keys(): \n",
    "                            grades[g] = 1\n",
    "                        else: \n",
    "                            grades[g] += 1\n",
    "                    all_section = pd.DataFrame([grades])\n",
    "                    all_section.to_csv(f\"{course}/overall_grades.csv\")\n",
    "                    overall[section]=all_section\n",
    "                except: \n",
    "                    print(section)\n",
    "                \n"
   ]
  },
  {
   "cell_type": "code",
   "execution_count": null,
   "id": "ae9e9553-742e-4a25-9e98-0f4683573228",
   "metadata": {
    "has_explanation": false
   },
   "outputs": [],
   "source": [
    "overall"
   ]
  },
  {
   "cell_type": "code",
   "execution_count": 9,
   "id": "cf30120d-e2ce-4282-aedf-4790a09a79cb",
   "metadata": {
    "has_explanation": false
   },
   "outputs": [],
   "source": [
    "new_overall = {\"BSI\":[], \"MSSI\":[], \"MSTI\":[], \"MCR\":[]}\n",
    "for path, overalls in overall.items(): \n",
    "    if \"BSI\" in path: \n",
    "        new_overall[\"BSI\"].append(overall[path])\n",
    "    elif \"MSSI\" in path: \n",
    "        new_overall[\"MSSI\"].append(overall[path])\n",
    "    elif \"MSTI\" in path:\n",
    "        new_overall[\"MSTI\"].append(overall[path])\n",
    "    elif \"MCR\" in path: \n",
    "        new_overall[\"MCR\"].append(overall[path])\n",
    "    else:\n",
    "        print(path)\n",
    "    "
   ]
  },
  {
   "cell_type": "code",
   "execution_count": 10,
   "id": "990adb1f-b7c8-46bc-af28-3db8deb52bc2",
   "metadata": {
    "has_explanation": false
   },
   "outputs": [],
   "source": [
    "overall_u = []\n",
    "for program, grades in new_overall.items(): \n",
    "    overall_program = grades[0]\n",
    "    for grade in grades[1:]:\n",
    "        #print(grade)\n",
    "        overall_program = overall_program.add(grade,fill_value=0)\n",
    "        overall_u.append(overall_program)\n",
    "    overall_program.to_csv(f\"course_grades/{program}/overall_grades.csv\")"
   ]
  },
  {
   "cell_type": "code",
   "execution_count": 11,
   "id": "e8a64974-4487-485d-b54f-a79bea17b683",
   "metadata": {
    "has_explanation": false
   },
   "outputs": [],
   "source": [
    "over = overall_u[0]\n",
    "for o in overall_u: \n",
    "    over = over.add(o,fill_value=0)\n",
    "over.to_csv(f\"course_grades/overall_grades.csv\")"
   ]
  },
  {
   "cell_type": "code",
   "execution_count": 12,
   "id": "ff12f01d-3fbf-4fbf-b62d-0ffce32d8a6f",
   "metadata": {
    "has_explanation": false
   },
   "outputs": [
    {
     "data": {
      "text/html": [
       "<div>\n",
       "<style scoped>\n",
       "    .dataframe tbody tr th:only-of-type {\n",
       "        vertical-align: middle;\n",
       "    }\n",
       "\n",
       "    .dataframe tbody tr th {\n",
       "        vertical-align: top;\n",
       "    }\n",
       "\n",
       "    .dataframe thead th {\n",
       "        text-align: right;\n",
       "    }\n",
       "</style>\n",
       "<table border=\"1\" class=\"dataframe\">\n",
       "  <thead>\n",
       "    <tr style=\"text-align: right;\">\n",
       "      <th></th>\n",
       "      <th>A</th>\n",
       "      <th>A-</th>\n",
       "      <th>B</th>\n",
       "      <th>B-</th>\n",
       "      <th>C</th>\n",
       "      <th>C+</th>\n",
       "      <th>F</th>\n",
       "    </tr>\n",
       "  </thead>\n",
       "  <tbody>\n",
       "    <tr>\n",
       "      <th>0</th>\n",
       "      <td>1984.0</td>\n",
       "      <td>2340.0</td>\n",
       "      <td>7658</td>\n",
       "      <td>2228.0</td>\n",
       "      <td>1250.0</td>\n",
       "      <td>736.0</td>\n",
       "      <td>71.0</td>\n",
       "    </tr>\n",
       "  </tbody>\n",
       "</table>\n",
       "</div>"
      ],
      "text/plain": [
       "        A      A-     B      B-       C     C+     F\n",
       "0  1984.0  2340.0  7658  2228.0  1250.0  736.0  71.0"
      ]
     },
     "execution_count": 12,
     "metadata": {},
     "output_type": "execute_result"
    }
   ],
   "source": [
    "over"
   ]
  },
  {
   "cell_type": "code",
   "execution_count": null,
   "id": "c27db24e-faa3-4899-bfd8-5cbb5fbadfac",
   "metadata": {
    "has_explanation": false,
    "jupyter": {
     "source_hidden": true
    }
   },
   "outputs": [],
   "source": []
  }
 ],
 "metadata": {
  "kernelspec": {
   "display_name": "Python 3 (ipykernel)",
   "language": "python",
   "name": "python3"
  },
  "language_info": {
   "codemirror_mode": {
    "name": "ipython",
    "version": 3
   },
   "file_extension": ".py",
   "mimetype": "text/x-python",
   "name": "python",
   "nbconvert_exporter": "python",
   "pygments_lexer": "ipython3",
   "version": "3.12.7"
  }
 },
 "nbformat": 4,
 "nbformat_minor": 5
}
