{
 "cells": [
  {
   "cell_type": "markdown",
   "id": "5135d399-4c34-46f4-99d8-4f2227352e89",
   "metadata": {},
   "source": [
    "# Grade Dashboard \n",
    "\n",
    "This Dashboard show course grades throughout a curriculum as tool for Higher Educators to see their dynamics of the curriculums. \n",
    "\n",
    "**These grades and assignments were computationally generated and are not real**"
   ]
  },
  {
   "cell_type": "markdown",
   "id": "8ab1b661-f135-4a6a-850c-3fa6477bb185",
   "metadata": {
    "explanatory": true
   },
   "source": [
    "#explanatory \n",
    "\n",
    "Being able to import commonly used code is what make coding so powerful. In essence you can grab the knowledge of other experts and immediately reapply to your problem."
   ]
  },
  {
   "cell_type": "code",
   "execution_count": 1,
   "id": "fa20e670-f41e-48b0-90f8-11a4f691de0a",
   "metadata": {
    "has_explanation": true
   },
   "outputs": [
    {
     "data": {
      "application/javascript": [
       "\n",
       "                    window.jupyter_python_executable = '\\r\\r';\n",
       "                    window.jupyter_widget_checks_silent = true;\n",
       "                    window.jupyter_widget_checks_libraries = [{\"python\": \"ipyvuetify\", \"classic\": \"jupyter-vuetify/extension\", \"lab\": \"jupyter-vuetify\"}, {\"python\": \"ipyvue\", \"classic\": \"jupyter-vue/extension\", \"lab\": \"jupyter-vue\"}];\n",
       "                    "
      ],
      "text/plain": [
       "<IPython.core.display.Javascript object>"
      ]
     },
     "metadata": {},
     "output_type": "display_data"
    },
    {
     "data": {
      "text/html": [
       "<div class=\"jupyter-widget-checks-container\">\n",
       "    <script>\n",
       "        (function () {\n",
       "            console.log(\"Checking for jupyter-widgets extensions\")\n",
       "            const inLab = window._JUPYTERLAB !== undefined;\n",
       "            const silent = jupyter_widget_checks_silent;\n",
       "            const containers = document.getElementsByClassName('jupyter-widget-checks-container');\n",
       "            const rootEl = containers[containers.length - 1];\n",
       "            const libraries = window.jupyter_widget_checks_libraries;\n",
       "\n",
       "            function getBaseUrl() {\n",
       "                const labConfigData = document.getElementById(\"jupyter-config-data\");\n",
       "                if (labConfigData) {\n",
       "                    /* lab and Voila */\n",
       "                    return JSON.parse(labConfigData.textContent).baseUrl;\n",
       "                }\n",
       "                let base = document.body.dataset.baseUrl || document.baseURI;\n",
       "                return base;\n",
       "            }\n",
       "\n",
       "            function checkLibrary(extensions, library) {\n",
       "                let installed = false;\n",
       "                let ok = true;\n",
       "                if (inLab) {\n",
       "                    installed = _JUPYTERLAB[library.lab] !== undefined\n",
       "                } else {\n",
       "                    installed = extensions[library.classic] !== undefined;\n",
       "                    let enabled = extensions[library.classic] === true;\n",
       "                }\n",
       "                const div = document.createElement(\"div\")\n",
       "                if (installed) {\n",
       "                    if (!silent) {\n",
       "                        div.innerHTML = `Extension ${library.python} is installed at the server ✅`\n",
       "                        rootEl.appendChild(div)\n",
       "                    }\n",
       "                } else {\n",
       "                    div.innerHTML = `Extension ${library.python} is <b>NOT</b> installed at the server ❌.`\n",
       "                    rootEl.appendChild(div)\n",
       "                    ok = false;\n",
       "                }\n",
       "                return ok;\n",
       "            }\n",
       "\n",
       "            async function check() {\n",
       "                const url = `${getBaseUrl()}api/config/notebook`\n",
       "                const response = (await fetch(url));\n",
       "                const data = await response.json()\n",
       "                const extensions = data[\"load_extensions\"];\n",
       "                var ok = true;\n",
       "                let needsInstall = [];\n",
       "                libraries.forEach((library) => {\n",
       "                    if (!checkLibrary(extensions, library)) {\n",
       "                        ok = false;\n",
       "                        needsInstall.push(library.python)\n",
       "                        console.log(\"Needs install\", library.python)\n",
       "                    }\n",
       "                })\n",
       "                console.log(ok, needsInstall)\n",
       "                if (!ok) {\n",
       "                    const div = document.createElement(\"div\")\n",
       "                    const div2 = document.createElement(\"div\")\n",
       "                    div.innerHTML = `Run <code>${jupyter_python_executable} -m pip install ${needsInstall.join(\" \")}</code>. Refresh the page after installation.`\n",
       "                    div2.innerHTML = `Visit <a href=\"https://solara.dev/documentation/getting_started/troubleshoot\" target=\"_blank\">https://solara/dev/documentation/getting_started/troubleshoot</a> for more information.`\n",
       "                    rootEl.appendChild(div)\n",
       "                    rootEl.appendChild(div2)\n",
       "                }\n",
       "            }\n",
       "            check()\n",
       "        })();\n",
       "    </script>\n",
       "</div>\n"
      ],
      "text/plain": [
       "<IPython.core.display.HTML object>"
      ]
     },
     "metadata": {},
     "output_type": "display_data"
    }
   ],
   "source": [
    "# Libraries for the data \n",
    "from collections import defaultdict #Make it is easier to create data strcuture for bar graph\n",
    "import os #Talk to the operating system\n",
    "import glob #Searches directories and files\n",
    "import json #Reads javascript files\n",
    "import numpy as np #Mathematical library\n",
    "import pandas as pd #Dataframes -- python's Excel\n",
    "\n",
    "# Dashboard Library\n",
    "import solara # Key dashboard\n",
    "import ipywidgets as widgets #Makes the dropdowns and sliders\n",
    "# Plotting library\n",
    "import plotly.express as px\n",
    "import plotly.graph_objects as go"
   ]
  },
  {
   "cell_type": "markdown",
   "id": "fcfc7ed3-f7c8-4c97-9d19-b8e7ec238bd8",
   "metadata": {},
   "source": [
    "## 1 - Read in the course and assignment data\n",
    " \n",
    " Reads in the course list and assignments that were downloaded from Blackboard"
   ]
  },
  {
   "cell_type": "markdown",
   "id": "99a71a93-bdec-4a25-aec4-d262be7bbf8e",
   "metadata": {
    "explanatory": true
   },
   "source": [
    "#explanatory \n",
    "\n",
    "`with open` - opens the json (javascript object notation file that is located in this directory \n",
    "\n",
    "it then calls this data  *json_file* and uses the json library imported earlier to store it in memory with `json.load`\n",
    "\n",
    "this data which contains all the course information is stored in the object drop_downs as it will create our drop down menus\n",
    "\n",
    "#TOTRY\n",
    "- Change `json_file` to any other name in both locations\n",
    "- Add a cell with the plus button and write `drop_downs` this will show the json data structure of all the course material it may look confusing at first but with practice it becomes easy to read. \n"
   ]
  },
  {
   "cell_type": "code",
   "execution_count": 2,
   "id": "4127cb00-640b-4985-99ab-dc01bc598ff1",
   "metadata": {
    "has_explanation": true
   },
   "outputs": [],
   "source": [
    "with open('data/drop_downs.json', 'r') as json_file:\n",
    "   drop_downs = json.load(json_file)"
   ]
  },
  {
   "cell_type": "markdown",
   "id": "2444f2dc-61be-43ec-8a9d-ee9f3a35b2b2",
   "metadata": {},
   "source": [
    "## 2 - Helper Functions \n",
    "\n",
    "This section is a list of functions we will repeatedly resue on the data\n",
    "\n",
    "The helper functions are:\n",
    "- `score_to_grade` - This function takes the raw number score and converts to a letter grade\n",
    "- `final_grades` -  This creates a dataframe (table) that counts each of the letter grades so we can plot them on a bar graph\n",
    "-  `make_overall` - Creates the bar graphs at the specified level form the drop_downs\n",
    "-  `plot_grades` - Plots the individual grades\n",
    "-  `grade_distribution` - Converts the information from the dashboard to the call the plotting functions"
   ]
  },
  {
   "cell_type": "markdown",
   "id": "4966de1f-5243-46ac-a5a4-811befe2ca43",
   "metadata": {},
   "source": [
    "### Score to  Grade Function\n",
    "\n",
    "Converts grades from numbers to letter"
   ]
  },
  {
   "cell_type": "markdown",
   "id": "bfdc31e7-2545-477a-872a-8bb6dcb1184b",
   "metadata": {
    "explanatory": true
   },
   "source": [
    "#explanatory\n",
    "\n",
    "The function `score_to_grade` takes a number grade like 88.76 and converts into a letter grade so it can be plotted on the bar graph\n",
    "\n",
    "The number grade is a parameter called `score` and the `>=` says if the number is greater than or equal to a number assign it a different letter grade\n",
    "\n",
    "#TOTRY\n",
    "- *Basic* - Change the letters or the numbers and watch the impact on the output\n",
    "- *Advanced* - Change the distribution (e.g. add B+) For this to work you will also have to make change to `make_overall` function "
   ]
  },
  {
   "cell_type": "code",
   "execution_count": 3,
   "id": "a236b300-d42b-43df-9e11-9d0d91cff8f2",
   "metadata": {
    "has_explanation": true,
    "jupyter": {
     "source_hidden": true
    }
   },
   "outputs": [],
   "source": [
    "def score_to_grade(score):\n",
    "    if score >= 93:\n",
    "        return 'A'\n",
    "    elif score >= 90:\n",
    "        return 'A-'\n",
    "    elif score >= 83:\n",
    "        return 'B'\n",
    "    elif score >= 80:\n",
    "        return 'B-'\n",
    "    elif score >= 78:\n",
    "        return 'C+'\n",
    "    elif score >= 70:\n",
    "        return 'C'\n",
    "    else:\n",
    "        return 'F'"
   ]
  },
  {
   "cell_type": "markdown",
   "id": "9e50e75f-7b39-4d55-9f19-1a2ad6af7f6e",
   "metadata": {},
   "source": [
    "### Final Grade Function \n",
    "\n",
    "Create tables of letter grades to plot on bar graph\n",
    "\n",
    "Calls the `score_to_grade` function "
   ]
  },
  {
   "cell_type": "markdown",
   "id": "a85a40de-eb84-4112-b96d-b94310261f46",
   "metadata": {
    "explanatory": true
   },
   "source": [
    "#explanatory \n",
    "\n",
    "The function `final_grades` takes a course section (1 class) and an assignment, which are both strings (i.e. letters)\n",
    "\n",
    "It creates an empty data structure called `grades` it then reads in the csv file (table) that has the grades. The code knows where to look based on the parameters section and assignment. \n",
    "\n",
    "If it is the final grade of the student (i.e. the grade they got in the section) then it converts the number grades to letter grades using the `score_to_grade` function we called earlier\n",
    "\n",
    "This returns a list of grades (e.g. [A, B, A, B, C,..])\n",
    "\n",
    "It then iterates through the list and counts the letter grades. This data is then stored in the grades data structure and just counts them. The grade data strcuture is then stored in a dataframe (table) and returned to `make_overall`\n",
    "\n",
    "#TOTRY\n",
    "- think of a course you want to call and then find it in the course_grades folder what are your `section` and `assignment` parameters \n"
   ]
  },
  {
   "cell_type": "code",
   "execution_count": 28,
   "id": "ee2d8ed9-b1e3-4e20-bdf1-927beb7349d4",
   "metadata": {
    "has_explanation": true
   },
   "outputs": [],
   "source": [
    "def final_grades(section, assignment):\n",
    "    grades = {}\n",
    "    all_section = pd.read_csv(f\"data/course_grades/{section}/{assignment}\")\n",
    "    if \"final\" in assignment: \n",
    "        grade_list = all_section['Final Grade'].apply(score_to_grade)\n",
    "    else: \n",
    "        grade_list = all_section['Grades'].apply(score_to_grade)\n",
    "    for g in grade_list: \n",
    "        if g not in grades.keys(): \n",
    "            grades[g] = 1\n",
    "        else: \n",
    "            grades[g] += 1\n",
    "    df = pd.DataFrame([grades])\n",
    "    return df\n",
    "                "
   ]
  },
  {
   "cell_type": "markdown",
   "id": "21bf8904-d1a0-4d24-9166-f86701b7bc2d",
   "metadata": {},
   "source": [
    "### Make Overall Function \n",
    "\n",
    "Plots the Bar Graph "
   ]
  },
  {
   "cell_type": "markdown",
   "id": "f409df64-c24d-4ffa-8437-f2e75f76f741",
   "metadata": {
    "explanatory": true
   },
   "source": [
    "#explanatory\n",
    "\n",
    "This function plots the grades in a bar graph using the Plotly library we imported at the beginning. This comes with features like \"mouse over\" automatically. The `title` is based on inputs from the dropdown menus.\n",
    "\n",
    "First, it cleans the data, it the faculty member entered in an unreadable column it changes the column name from unnamed to Unknown\n",
    "\n",
    "Second, it accounts for all grades so say in a course did not give out a C+ it will add that column with a value of 0\n",
    "\n",
    "Third, it ensures the columns are in the desired order of A to F\n",
    "\n",
    "Finally, it plots the dataframe. The X axis is the column names (e.g. A, B ...) and the Y axis the count of those grades converted from the dataframe to a list of grades.\n",
    "\n",
    "#TOTRY\n",
    "- Change the title, X-axis or Y-axis of the graphs\n",
    "- Change the layout size (e.g. `height=400`)\n"
   ]
  },
  {
   "cell_type": "code",
   "execution_count": 4,
   "id": "44b96c13-e5e7-4979-b822-06fb83d102d9",
   "metadata": {
    "has_explanation": true,
    "jupyter": {
     "source_hidden": true
    }
   },
   "outputs": [],
   "source": [
    "def make_overall(df, title): \n",
    "    # Get rid of unanmed \n",
    "    df.columns = [col if 'Unnamed' not in col else 'unknown' for col in df.columns]\n",
    "    \n",
    "    # Ensure all expected columns (A, B, C, D, F) are present, add missing ones with default value (e.g., None)\n",
    "    expected_columns = ['A', 'A-','B','B-','C+', 'C','F', 'Unknown']\n",
    "    for col in expected_columns:\n",
    "        if col not in df.columns:\n",
    "            df[col] = 0  \n",
    "    \n",
    "    # Reorder the columns in grade order\n",
    "    df = df[expected_columns] \n",
    "    \n",
    "    fig = go.Figure(data=[\n",
    "    go.Bar(x=list(df.columns), y=df.iloc[0].tolist())  # x for categories, y for values\n",
    "    ])\n",
    "    # Customize the layout (optional)\n",
    "    fig.update_layout(\n",
    "        title=title,\n",
    "        xaxis_title=\"Grades\",\n",
    "        yaxis_title=\"Frequency\"\n",
    "    )\n",
    "\n",
    "    # Set the figure height to display all rows\n",
    "    fig.update_layout(height=500)\n",
    "    \n",
    "    return solara.FigurePlotly(fig)  "
   ]
  },
  {
   "cell_type": "markdown",
   "id": "b23c6028-50f8-4efc-97dd-b0d49c1f2776",
   "metadata": {},
   "source": [
    "### Plot Grade Function \n",
    "\n",
    "Horizontal Bar Graph plot of Sutdent ID (not real) and grade on Assignment"
   ]
  },
  {
   "cell_type": "code",
   "execution_count": 37,
   "id": "31222bf0-986e-44c4-a8c3-6fb283ba4ea7",
   "metadata": {
    "has_explanation": false
   },
   "outputs": [],
   "source": [
    "def plot_grades(program, course,section,assignment):\n",
    "    dfs = []\n",
    "    folders=[]\n",
    "    file=f\"data/course_grades\\\\{program}\\\\{course}\\\\{section}\\\\{assignment}.csv\" \n",
    "    df = pd.read_csv(file)\n",
    "    df = df.replace({pd.NA: None, np.nan: None})   \n",
    "    df[\"Student ID\"] = df['Student ID'].astype(str)\n",
    "    fig = px.bar(df, \n",
    "             x='Grades', \n",
    "             y='Student ID', \n",
    "             orientation='h', \n",
    "             hover_data=[\"Feedback\"],\n",
    "             title=assignment)\n",
    "\n",
    "    # Set the figure height to display all rows\n",
    "    fig.update_layout(height=1000)\n",
    "    \n",
    "    # Set the x-axis range to start from the lowest grade minus 10\n",
    "    min_grade = df['Grades'].min()\n",
    "    max_grade = df[\"Grades\"].max()\n",
    "    fig.update_xaxes(range=[min_grade - 5, max_grade])  # Lower bound set, upper bound auto\n",
    " \n",
    "    return solara.FigurePlotly(fig)"
   ]
  },
  {
   "cell_type": "markdown",
   "id": "49ba6faa-baac-4574-a611-2612ae99cba5",
   "metadata": {},
   "source": [
    "### Grade Distribution Function \n",
    "\n",
    "Takes the drop down menu inputs and calls:\n",
    "- the `final_grades` function which converts the grades from numbers to letters and makes a table of the number\n",
    "- the `make_overall` function which takes the table and plots a bar graph \n"
   ]
  },
  {
   "cell_type": "markdown",
   "id": "fa8ace02-5217-40e0-b10e-fe4c616ab53f",
   "metadata": {
    "explanatory": true
   },
   "source": [
    "#explanatory\n",
    "\n",
    "The grade distribution function parses the information form the drop down menu so that when it calls the `make_overall` function it is passing the right information to those functions. \n",
    "\n",
    "The first parameter tells what `level` of the drop down the user is working. If there has been no selection then the level is equal to the string \"all\" and it plots the overall grades for all courses. \n",
    "\n",
    "The second parameter is the `target`, this is specifically what the user is requesting (e.g. MSTI, BSI etc) this and updates the elvel to program\n",
    "\n",
    "The third parameter is the `details` this is for when a user wants to to see the assignment grades and passes in the specific assignment of interest. \n",
    "\n",
    "These parameters then dictate what is call is made. The code looks reads in the data calling the `make_overall` with the dataframe (table) of grades and the title of the bar graph "
   ]
  },
  {
   "cell_type": "code",
   "execution_count": 38,
   "id": "df5815e2-43f7-4482-9644-ad1c8aa84afe",
   "metadata": {
    "has_explanation": true
   },
   "outputs": [],
   "source": [
    "def grade_distribution(level, target, details):\n",
    "    if level==\"all\":\n",
    "        return make_overall(pd.read_csv(\"data/course_grades/overall_grades.csv\"), \"Overall Grade Distribution\")\n",
    "    if level==\"program\":\n",
    "        #overall = get_data(details)\n",
    "        return make_overall(pd.read_csv(f\"data/course_grades/{target}/overall_grades.csv\"), f\"{target} Grade Distribution\")\n",
    "    if level==\"course\":\n",
    "        try: #account for faculty who dont use blackboard\n",
    "            return make_overall(pd.read_csv(f\"data/course_grades/{target}/overall_grades.csv\"), f\"{target} Grade Distribution\")\n",
    "        except: \n",
    "            return solara.Markdown(\"## This course did not input grades in blackboard.\")\n",
    "    if level==\"section\": \n",
    "        section_grades = final_grades(target, \"final_grade.csv\")\n",
    "        return make_overall(section_grades, f\"{target} Grade Distribution\")\n",
    "    if level == \"assignment\":\n",
    "        section_grades = final_grades(target,details)\n",
    "        return make_overall(section_grades, f\"Assignment Grade Distribution\")"
   ]
  },
  {
   "cell_type": "markdown",
   "id": "5739d122-5e8c-4042-9964-35252743995d",
   "metadata": {
    "has_explanation": false
   },
   "source": [
    "## 3 - Make the Dashboard"
   ]
  },
  {
   "cell_type": "markdown",
   "id": "01a1a9ea-9dba-43da-8793-93d9f99b395b",
   "metadata": {},
   "source": [
    "### Intialize the Interactive Widgets\n",
    "\n",
    "Create the user input widgets in this case the drop down menus"
   ]
  },
  {
   "cell_type": "markdown",
   "id": "f030c662-9966-4d86-86ed-be9d39ff9db7",
   "metadata": {
    "explanatory": true
   },
   "source": [
    "#explanatory\n",
    "\n",
    "This cell creates the interactive widgets which are the drop down menus and one button at the: \n",
    "\n",
    "Dropdowns: \n",
    "- program \n",
    "- course\n",
    "- section\n",
    "- assignment\n",
    "\n",
    "Button:\n",
    "- graphs of the scores by student ID (not real ids) "
   ]
  },
  {
   "cell_type": "code",
   "execution_count": 39,
   "id": "b03b7cc9-beb8-4bdf-acc0-4096c9092603",
   "metadata": {
    "has_explanation": true
   },
   "outputs": [],
   "source": [
    "# Reactive state management for dropdowns\n",
    "selected_program = solara.reactive(None)\n",
    "selected_course = solara.reactive(None)\n",
    "selected_section = solara.reactive(None)\n",
    "selected_assignments = solara.reactive(None)\n",
    "graph_grades = solara.reactive(False) \n",
    "reset_selection =solara.reactive(False)"
   ]
  },
  {
   "cell_type": "markdown",
   "id": "4920eb7e-ae79-4af6-a575-8e60ae5ff43f",
   "metadata": {},
   "source": [
    "### Populate the Drop Down Menus\n",
    "\n",
    "Fills the drop down menus with list of options based on user selection "
   ]
  },
  {
   "cell_type": "markdown",
   "id": "7be7479d-f5e8-4bbd-88b9-e2b7c809ffbc",
   "metadata": {
    "explanatory": true
   },
   "source": [
    "#explanatory\n",
    "\n",
    "Each of these functions populates the drop down menus based on the initialization earlier.  So as users select a drop down it changes the value from `None` to whatever was selected. This then references the json file we read in earlier to populate the next drop down menu. \n",
    "\n",
    "For the plot grade status it is just a button that toggle from true to false and if true it plots the assignments by student ID (not real IDs) "
   ]
  },
  {
   "cell_type": "code",
   "execution_count": 40,
   "id": "4996653a-3651-49f1-9be0-1628be2cc580",
   "metadata": {
    "has_explanation": true
   },
   "outputs": [],
   "source": [
    "def reset_controls():\n",
    "    selected_program.value = None\n",
    "    selected_course.value = None\n",
    "    selected_section.value = None\n",
    "    selected_assignments.value = None\n",
    "    reset_selection.value=False\n",
    "            \n",
    "\n",
    "def program_selected(program):\n",
    "    if program != None: \n",
    "        courses = list(drop_downs[program].keys())\n",
    "        courses.sort()\n",
    "        return courses\n",
    "\n",
    "def course_selected(course):\n",
    "    if course != None: \n",
    "        if course not in list(drop_downs[selected_program.value].keys()):\n",
    "            return None\n",
    "        else: \n",
    "            sections = list(drop_downs[selected_program.value][course][\"Sections\"].keys())\n",
    "            sections.sort()\n",
    "            #plot\n",
    "            return sections\n",
    "    else: \n",
    "        return None\n",
    "\n",
    "def section_selected(section):\n",
    "    if section != None: \n",
    "        if section not in list(drop_downs[selected_program.value][selected_course.value][\"Sections\"].keys()):\n",
    "            return None\n",
    "        else: \n",
    "            assignments = drop_downs[selected_program.value][selected_course.value][\"Sections\"][section]\n",
    "            assignments.sort()\n",
    "            return assignments\n",
    "    else: \n",
    "        return None\n",
    "\n",
    "def plot_grade_status(): \n",
    "    graph_grades.set(not graph_grades.value)"
   ]
  },
  {
   "cell_type": "markdown",
   "id": "087b2ff4-f29d-4e50-b6cc-2b0952e5f34d",
   "metadata": {},
   "source": [
    "### Output of Course Grades\n",
    "\n",
    "Based on user selection generates the bar graphs of grade distribution "
   ]
  },
  {
   "cell_type": "markdown",
   "id": "abbf0585-308f-40a7-a523-3bd372f7a9ef",
   "metadata": {
    "explanatory": true
   },
   "source": [
    "#explanatory\n",
    "\n",
    "This code controls what ie being displayed. It is wrapped in a `try` and `except` syntax. This prevents the code from erroring out, if say some selects MSTI >> MST613 but then goes back and changes to MSSI in which case there is not MST613. \n",
    "\n",
    "This code takes the inputs from the dropdown menu and then call the grade distirbution function.\n",
    "\n",
    "The target variable is just a string (letters) to the path of the final that needs ot be plotted. "
   ]
  },
  {
   "cell_type": "code",
   "execution_count": 47,
   "id": "65c63434-b84f-4783-94da-a66ac6d3cfb8",
   "metadata": {
    "has_explanation": true
   },
   "outputs": [],
   "source": [
    "@solara.component\n",
    "def View():    \n",
    "   \n",
    "    try: \n",
    "        if selected_program.value == None: \n",
    "            grade_distribution(\"all\", None, None)\n",
    "        elif selected_program.value != None and selected_course.value == None:\n",
    "            grade_distribution(\"program\", selected_program.value, drop_downs[selected_program.value])\n",
    "        elif selected_course.value != None and selected_section.value == None: \n",
    "            target =selected_program.value+\"/\"+selected_course.value\n",
    "            grade_distribution(\"course\", target, drop_downs[selected_program.value][selected_course.value])\n",
    "        elif selected_section.value != None and selected_assignments.value == None: \n",
    "            target =selected_program.value+\"/\"+selected_course.value+\"/\"+selected_section.value\n",
    "            grade_distribution(\"section\", target, None) \n",
    "        elif selected_assignments != None:  \n",
    "            target = selected_program.value+\"/\"+selected_course.value+\"/\"+selected_section.value\n",
    "            assignment = selected_assignments.value +\".csv\"\n",
    "            grade_distribution(\"assignment\", target,assignment)\n",
    "            solara.Button(label=\"Show Grades by Student ID\", on_click=plot_grade_status)\n",
    "            if graph_grades.value== True: \n",
    "                plot_grades(selected_program.value, selected_course.value, selected_section.value, selected_assignments.value) \n",
    "        \n",
    "    except: \n",
    "        solara.Markdown(\"## Selections do not compute, please update selections\")\n",
    "        reset_controls()"
   ]
  },
  {
   "cell_type": "markdown",
   "id": "28de551a-1561-42b0-8080-e114ba2dccf6",
   "metadata": {},
   "source": [
    "### Drop Down Menus\n",
    "\n",
    "Displays the drop down menus"
   ]
  },
  {
   "cell_type": "markdown",
   "id": "ce8398a2-0215-4dde-996d-34c88172443b",
   "metadata": {
    "explanatory": true
   },
   "source": [
    "#explanatory \n",
    "\n",
    "This cell creates the dropdowns we iniatilized earlier in this case we are using `Select` which allows users to select one value form the menu. \n",
    "\n",
    "This takes three parameters \n",
    " - label of the dropdown\n",
    " - value of the dropdown (they are inialized with `None` at the beginning of section 3\n",
    " - values to populate the dropdown\n",
    "\n",
    "This is also wrapped in a `try` and `except` to prevent errors for mismatched selections\n",
    "\n",
    "#TOTRY\n",
    "- Change the error message you get with a mimatched selection"
   ]
  },
  {
   "cell_type": "code",
   "execution_count": 48,
   "id": "c443542b-22de-4320-9d12-146de3dd56cc",
   "metadata": {
    "has_explanation": true
   },
   "outputs": [],
   "source": [
    "@solara.component\n",
    "def Controls():     \n",
    "    solara.Button(label=\"Reset Selection\", on_click=reset_controls)\n",
    "    try: \n",
    "        solara.Select(label=\"Program\", value=selected_program, values=list(drop_downs.keys()))\n",
    "        solara.Select(label=\"Course\", value=selected_course, values = program_selected(selected_program.value))\n",
    "        #TODO change to SelectMultiple \n",
    "        solara.Select(label=\"Section\", value=selected_section, values = course_selected(selected_course.value))\n",
    "        #TODO change to SelectMultiple\n",
    "        solara.Select(label=\"Assignments\", value = selected_assignments, values = section_selected(selected_section.value))\n",
    "    except: \n",
    "        solara.Markdown(\"## Selections do not compute, please update selections\")"
   ]
  },
  {
   "cell_type": "markdown",
   "id": "2a429a4d-b0fb-4c1e-bce7-bf01b880ec16",
   "metadata": {},
   "source": [
    "### Title of the Dashboard\n",
    "\n",
    "Creates the title of the dashboard"
   ]
  },
  {
   "cell_type": "markdown",
   "id": "e7ea174d-672e-4a4e-b133-b56ecef7ed9a",
   "metadata": {},
   "source": [
    "#explanatory\n",
    "\n",
    "This cell just provides the title of the dashboard\n",
    "\n",
    "#TOTRY\n",
    "- Change the title\n",
    "- Change the number of hashtags"
   ]
  },
  {
   "cell_type": "code",
   "execution_count": 49,
   "id": "2675b051-a1ab-4bd3-961e-1d79ffca627e",
   "metadata": {
    "has_explanation": false
   },
   "outputs": [],
   "source": [
    "@solara.component\n",
    "def Title():\n",
    "        solara.Markdown(\"## Assignment Grade Dashboard\")"
   ]
  },
  {
   "cell_type": "markdown",
   "id": "b548f5eb-8de5-4408-b3e8-7df0030b5e90",
   "metadata": {},
   "source": [
    "### Create the Dashboard\n",
    "\n",
    " - Calls the display area `View` function\n",
    " - Calls the drop down menus `Control` function\n",
    " - Calls the `Title` function \n",
    " "
   ]
  },
  {
   "cell_type": "markdown",
   "id": "e47d8536-ef15-46c6-8513-558fec585753",
   "metadata": {
    "explanatory": true
   },
   "source": [
    "#explanatory\n",
    "\n",
    "This code brings it all together to make the dashboard. \n",
    "\n",
    "It calls the `Title`, `Controls` (placing them in the sidebar) and `View` which puts together all the pieces of the dashboard. "
   ]
  },
  {
   "cell_type": "code",
   "execution_count": 50,
   "id": "54b50eb9-9fef-4f20-befe-d6325dfd61ce",
   "metadata": {
    "has_explanation": true
   },
   "outputs": [
    {
     "data": {
      "application/vnd.jupyter.widget-view+json": {
       "model_id": "890a6b0bdba74eb7b585f15310295121",
       "version_major": 2,
       "version_minor": 0
      },
      "text/html": [
       "Cannot show widget. You probably want to rerun the code cell above (<i>Click in the code cell, and press Shift+Enter <kbd>⇧</kbd>+<kbd>↩</kbd></i>)."
      ],
      "text/plain": [
       "Cannot show ipywidgets in text"
      ]
     },
     "metadata": {},
     "output_type": "display_data"
    }
   ],
   "source": [
    "@solara.component\n",
    "def Page():\n",
    "    Title()\n",
    "    with solara.Sidebar():\n",
    "        Controls()\n",
    "    View()\n",
    "     \n",
    "\n",
    "Page()"
   ]
  },
  {
   "cell_type": "code",
   "execution_count": null,
   "id": "b1af1a76-05d8-4688-ad66-81405698dbad",
   "metadata": {
    "has_explanation": false
   },
   "outputs": [],
   "source": []
  },
  {
   "cell_type": "code",
   "execution_count": null,
   "id": "419dc025-1a94-4de8-8093-df1c9a10960c",
   "metadata": {
    "has_explanation": false,
    "jupyter": {
     "source_hidden": true
    }
   },
   "outputs": [],
   "source": []
  },
  {
   "cell_type": "code",
   "execution_count": null,
   "id": "c12ab799-625f-484a-b2e2-a8e4100590b3",
   "metadata": {},
   "outputs": [],
   "source": []
  }
 ],
 "metadata": {
  "kernelspec": {
   "display_name": "Python 3 (ipykernel)",
   "language": "python",
   "name": "python3"
  },
  "language_info": {
   "codemirror_mode": {
    "name": "ipython",
    "version": 3
   },
   "file_extension": ".py",
   "mimetype": "text/x-python",
   "name": "python",
   "nbconvert_exporter": "python",
   "pygments_lexer": "ipython3",
   "version": "3.12.7"
  }
 },
 "nbformat": 4,
 "nbformat_minor": 5
}
